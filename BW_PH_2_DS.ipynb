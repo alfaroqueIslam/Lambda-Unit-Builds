{
 "cells": [
  {
   "cell_type": "markdown",
   "metadata": {
    "colab_type": "text",
    "id": "view-in-github"
   },
   "source": [
    "<a href=\"https://colab.research.google.com/github/alfaroqueIslam/Lambda-Unit-Builds/blob/master/BW_PH_2_DS.ipynb\" target=\"_parent\"><img src=\"https://colab.research.google.com/assets/colab-badge.svg\" alt=\"Open In Colab\"/></a>"
   ]
  },
  {
   "cell_type": "code",
   "execution_count": 1,
   "metadata": {
    "colab": {
     "base_uri": "https://localhost:8080/",
     "height": 343
    },
    "colab_type": "code",
    "id": "lFviWGDcy-XN",
    "outputId": "995ba595-98da-491a-9176-a49d2d20b757"
   },
   "outputs": [
    {
     "name": "stdout",
     "output_type": "stream",
     "text": [
      "Collecting praw\n",
      "  Using cached praw-7.1.0-py3-none-any.whl (152 kB)\n",
      "Collecting prawcore<2.0,>=1.3.0\n",
      "  Using cached prawcore-1.4.0-py3-none-any.whl (15 kB)\n",
      "Collecting websocket-client>=0.54.0\n",
      "  Using cached websocket_client-0.57.0-py2.py3-none-any.whl (200 kB)\n",
      "Collecting update-checker>=0.17\n",
      "  Using cached update_checker-0.17-py2.py3-none-any.whl (7.0 kB)\n",
      "Requirement already satisfied: requests<3.0,>=2.6.0 in c:\\users\\alfar\\.virtualenvs\\data-science-we7t2b55\\lib\\site-packages (from prawcore<2.0,>=1.3.0->praw) (2.24.0)\n",
      "Requirement already satisfied: six in c:\\users\\alfar\\.virtualenvs\\data-science-we7t2b55\\lib\\site-packages (from websocket-client>=0.54.0->praw) (1.15.0)\n",
      "Requirement already satisfied: certifi>=2017.4.17 in c:\\users\\alfar\\.virtualenvs\\data-science-we7t2b55\\lib\\site-packages (from requests<3.0,>=2.6.0->prawcore<2.0,>=1.3.0->praw) (2020.6.20)\n",
      "Requirement already satisfied: idna<3,>=2.5 in c:\\users\\alfar\\.virtualenvs\\data-science-we7t2b55\\lib\\site-packages (from requests<3.0,>=2.6.0->prawcore<2.0,>=1.3.0->praw) (2.10)\n",
      "Requirement already satisfied: chardet<4,>=3.0.2 in c:\\users\\alfar\\.virtualenvs\\data-science-we7t2b55\\lib\\site-packages (from requests<3.0,>=2.6.0->prawcore<2.0,>=1.3.0->praw) (3.0.4)\n",
      "Requirement already satisfied: urllib3!=1.25.0,!=1.25.1,<1.26,>=1.21.1 in c:\\users\\alfar\\.virtualenvs\\data-science-we7t2b55\\lib\\site-packages (from requests<3.0,>=2.6.0->prawcore<2.0,>=1.3.0->praw) (1.25.10)\n",
      "Installing collected packages: prawcore, websocket-client, update-checker, praw\n",
      "Successfully installed praw-7.1.0 prawcore-1.4.0 update-checker-0.17 websocket-client-0.57.0\n"
     ]
    }
   ],
   "source": [
    "# The Python Reddit API Wrapper\n",
    "!pip install praw"
   ]
  },
  {
   "cell_type": "code",
   "execution_count": 2,
   "metadata": {
    "colab": {},
    "colab_type": "code",
    "id": "3HECCFINygci"
   },
   "outputs": [],
   "source": [
    "import pandas as pd\n",
    "import numpy as np\n",
    "import praw as pw"
   ]
  },
  {
   "cell_type": "code",
   "execution_count": 3,
   "metadata": {
    "cellView": "form",
    "colab": {},
    "colab_type": "code",
    "id": "LaZKgm3czLWN"
   },
   "outputs": [],
   "source": [
    "#@title API keys and password passed through 'reddit' variable\n",
    "reddit = pw.Reddit(client_id=\"by7TO_5lbhm--Q\",\n",
    "                     client_secret=\"80gtftWqoHnRXg6iFKp3-SdyQYU\",\n",
    "                     password=\"Lambdads123!\",\n",
    "                     user_agent=\"project-script by /u/throwawaylambda123\",\n",
    "                     username=\"throwawaylambda123\")"
   ]
  },
  {
   "cell_type": "code",
   "execution_count": 4,
   "metadata": {
    "colab": {},
    "colab_type": "code",
    "id": "7sXzgLQ_zuj6"
   },
   "outputs": [],
   "source": [
    "# Creating a list for subreddit names\n",
    "sub_names = []\n",
    "sub_titles = []\n",
    "sub_description = []\n",
    "for data in reddit.subreddits.default(limit=200):\n",
    "  sub_names.append(data)\n"
   ]
  },
  {
   "cell_type": "code",
   "execution_count": 5,
   "metadata": {
    "colab": {
     "base_uri": "https://localhost:8080/",
     "height": 54
    },
    "colab_type": "code",
    "id": "TBbEd6blbHel",
    "outputId": "af217e30-050e-4b9e-a46a-cb3167b8ce6e"
   },
   "outputs": [
    {
     "name": "stdout",
     "output_type": "stream",
     "text": [
      "[Subreddit(display_name='gadgets'), Subreddit(display_name='sports'), Subreddit(display_name='gaming'), Subreddit(display_name='pics'), Subreddit(display_name='worldnews'), Subreddit(display_name='videos'), Subreddit(display_name='AskReddit'), Subreddit(display_name='aww'), Subreddit(display_name='Music'), Subreddit(display_name='funny'), Subreddit(display_name='news'), Subreddit(display_name='movies'), Subreddit(display_name='blog'), Subreddit(display_name='books'), Subreddit(display_name='history'), Subreddit(display_name='food'), Subreddit(display_name='philosophy'), Subreddit(display_name='Jokes'), Subreddit(display_name='Art'), Subreddit(display_name='DIY'), Subreddit(display_name='space'), Subreddit(display_name='Documentaries'), Subreddit(display_name='askscience'), Subreddit(display_name='nottheonion'), Subreddit(display_name='todayilearned'), Subreddit(display_name='gifs'), Subreddit(display_name='listentothis'), Subreddit(display_name='IAmA'), Subreddit(display_name='announcements'), Subreddit(display_name='TwoXChromosomes'), Subreddit(display_name='creepy'), Subreddit(display_name='nosleep'), Subreddit(display_name='GetMotivated'), Subreddit(display_name='WritingPrompts'), Subreddit(display_name='LifeProTips'), Subreddit(display_name='EarthPorn'), Subreddit(display_name='explainlikeimfive'), Subreddit(display_name='Showerthoughts'), Subreddit(display_name='Futurology'), Subreddit(display_name='photoshopbattles'), Subreddit(display_name='mildlyinteresting'), Subreddit(display_name='dataisbeautiful'), Subreddit(display_name='tifu'), Subreddit(display_name='OldSchoolCool'), Subreddit(display_name='UpliftingNews'), Subreddit(display_name='InternetIsBeautiful'), Subreddit(display_name='science')]\n"
     ]
    }
   ],
   "source": [
    "print(sub_names)"
   ]
  },
  {
   "cell_type": "code",
   "execution_count": 5,
   "metadata": {
    "colab": {
     "base_uri": "https://localhost:8080/",
     "height": 34
    },
    "colab_type": "code",
    "id": "4RaN09Et6qHZ",
    "outputId": "f03133c3-6e90-4e80-d097-a3efc369996f"
   },
   "outputs": [
    {
     "name": "stdout",
     "output_type": "stream",
     "text": [
      "{'remaining': 599.0, 'reset_timestamp': 1596085199.9012508, 'used': 1}\n"
     ]
    }
   ],
   "source": [
    "# Making sure Reddit API rules are being followed\n",
    "print(reddit.auth.limits)"
   ]
  },
  {
   "cell_type": "code",
   "execution_count": 6,
   "metadata": {
    "colab": {
     "base_uri": "https://localhost:8080/",
     "height": 426
    },
    "colab_type": "code",
    "id": "RxggqnYlDjYm",
    "outputId": "3c75ba0a-b7b8-449b-95f0-04af068163b5"
   },
   "outputs": [
    {
     "name": "stdout",
     "output_type": "stream",
     "text": [
      "9359\n"
     ]
    }
   ],
   "source": [
    "# Retrieving subreddit data\n",
    "submis_title = []\n",
    "submis_url = []\n",
    "submis_selftext = []\n",
    "submis_upvotes = []\n",
    "submis_upvote_ratio = []\n",
    "atex = []\n",
    "sub = []\n",
    "for i in sub_names:\n",
    "  for subm in reddit.subreddit(str(i)).top(limit=200):\n",
    "    sub.append(subm)\n",
    "    submis_title.append(str(subm.title))\n",
    "    submis_selftext.append(subm.selftext)\n",
    "    submis_url.append(str(subm.url))\n",
    "    sub_titles.append(str(i))\n",
    "    sub_description.append(str(i.public_description))\n",
    "    submis_upvotes.append(subm.score)\n",
    "    submis_upvote_ratio.append(subm.upvote_ratio)\n",
    "    #if subm.selftext != '':\n",
    "    #   atex.append(str(subm.title)+' '+str(subm.selftext))\n",
    "    #else:\n",
    "    #  atex.append(str(subm.title)+' '+str(subm.url))\n",
    "\n",
    "\n",
    "print(len(sub))"
   ]
  },
  {
   "cell_type": "code",
   "execution_count": 7,
   "metadata": {
    "colab": {
     "base_uri": "https://localhost:8080/",
     "height": 375
    },
    "colab_type": "code",
    "id": "2_x36s558you",
    "outputId": "bad440a1-28fd-4de0-c122-6981d5f679d1"
   },
   "outputs": [
    {
     "data": {
      "text/html": [
       "<div>\n",
       "<style scoped>\n",
       "    .dataframe tbody tr th:only-of-type {\n",
       "        vertical-align: middle;\n",
       "    }\n",
       "\n",
       "    .dataframe tbody tr th {\n",
       "        vertical-align: top;\n",
       "    }\n",
       "\n",
       "    .dataframe thead th {\n",
       "        text-align: right;\n",
       "    }\n",
       "</style>\n",
       "<table border=\"1\" class=\"dataframe\">\n",
       "  <thead>\n",
       "    <tr style=\"text-align: right;\">\n",
       "      <th></th>\n",
       "      <th>subreddit_title</th>\n",
       "      <th>subreddit_description</th>\n",
       "      <th>submission_title</th>\n",
       "      <th>submission_selftext</th>\n",
       "      <th>submission_url</th>\n",
       "      <th>submission_upvotes</th>\n",
       "      <th>submission_upvote_ratio</th>\n",
       "    </tr>\n",
       "  </thead>\n",
       "  <tbody>\n",
       "    <tr>\n",
       "      <th>0</th>\n",
       "      <td>gadgets</td>\n",
       "      <td>From Vintage gadgetry to the latest and greate...</td>\n",
       "      <td>Amazon admits Alexa is creepily laughing at pe...</td>\n",
       "      <td></td>\n",
       "      <td>https://www.theverge.com/circuitbreaker/2018/3...</td>\n",
       "      <td>70155</td>\n",
       "      <td>0.91</td>\n",
       "    </tr>\n",
       "    <tr>\n",
       "      <th>1</th>\n",
       "      <td>gadgets</td>\n",
       "      <td>From Vintage gadgetry to the latest and greate...</td>\n",
       "      <td>Apple apologizes for iPhone slowdown drama, wi...</td>\n",
       "      <td></td>\n",
       "      <td>https://www.theverge.com/2017/12/28/16827248/a...</td>\n",
       "      <td>62490</td>\n",
       "      <td>0.83</td>\n",
       "    </tr>\n",
       "    <tr>\n",
       "      <th>2</th>\n",
       "      <td>gadgets</td>\n",
       "      <td>From Vintage gadgetry to the latest and greate...</td>\n",
       "      <td>Logitech finally finds a good use for wireless...</td>\n",
       "      <td></td>\n",
       "      <td>https://arstechnica.com/gadgets/2017/06/logite...</td>\n",
       "      <td>59768</td>\n",
       "      <td>0.89</td>\n",
       "    </tr>\n",
       "    <tr>\n",
       "      <th>3</th>\n",
       "      <td>gadgets</td>\n",
       "      <td>From Vintage gadgetry to the latest and greate...</td>\n",
       "      <td>The S9 Keeps the 3.5mm Headphone Jack!</td>\n",
       "      <td></td>\n",
       "      <td>http://www.theverge.com/platform/amp/circuitbr...</td>\n",
       "      <td>59196</td>\n",
       "      <td>0.83</td>\n",
       "    </tr>\n",
       "    <tr>\n",
       "      <th>4</th>\n",
       "      <td>gadgets</td>\n",
       "      <td>From Vintage gadgetry to the latest and greate...</td>\n",
       "      <td>Apple Warns Looters With Stolen iPhones: You A...</td>\n",
       "      <td></td>\n",
       "      <td>https://www.forbes.com/sites/zakdoffman/2020/0...</td>\n",
       "      <td>58929</td>\n",
       "      <td>0.90</td>\n",
       "    </tr>\n",
       "    <tr>\n",
       "      <th>5</th>\n",
       "      <td>gadgets</td>\n",
       "      <td>From Vintage gadgetry to the latest and greate...</td>\n",
       "      <td>94-year-old inventor of lithium-ion batteries ...</td>\n",
       "      <td></td>\n",
       "      <td>http://www.digitaltrends.com/cool-tech/glass-b...</td>\n",
       "      <td>53054</td>\n",
       "      <td>0.87</td>\n",
       "    </tr>\n",
       "    <tr>\n",
       "      <th>6</th>\n",
       "      <td>gadgets</td>\n",
       "      <td>From Vintage gadgetry to the latest and greate...</td>\n",
       "      <td>We need your voice as we continue the fight fo...</td>\n",
       "      <td></td>\n",
       "      <td>https://www.reddit.com/r/blog/comments/6mtgtp/...</td>\n",
       "      <td>49206</td>\n",
       "      <td>0.84</td>\n",
       "    </tr>\n",
       "    <tr>\n",
       "      <th>7</th>\n",
       "      <td>gadgets</td>\n",
       "      <td>From Vintage gadgetry to the latest and greate...</td>\n",
       "      <td>The first ever 1-terabyte microSD card is now ...</td>\n",
       "      <td></td>\n",
       "      <td>https://www.tomsguide.com/us/sandisk-1-tb-micr...</td>\n",
       "      <td>45118</td>\n",
       "      <td>0.96</td>\n",
       "    </tr>\n",
       "    <tr>\n",
       "      <th>8</th>\n",
       "      <td>gadgets</td>\n",
       "      <td>From Vintage gadgetry to the latest and greate...</td>\n",
       "      <td>$350 USB Stick That Claims to Block 5G Is Actu...</td>\n",
       "      <td></td>\n",
       "      <td>https://www.pcmag.com/news/350-usb-stick-that-...</td>\n",
       "      <td>39282</td>\n",
       "      <td>0.95</td>\n",
       "    </tr>\n",
       "    <tr>\n",
       "      <th>9</th>\n",
       "      <td>gadgets</td>\n",
       "      <td>From Vintage gadgetry to the latest and greate...</td>\n",
       "      <td>Boston Dynamics' quadruped robots are now roam...</td>\n",
       "      <td></td>\n",
       "      <td>https://www.tomsguide.com/news/boston-dynamics...</td>\n",
       "      <td>39023</td>\n",
       "      <td>0.93</td>\n",
       "    </tr>\n",
       "  </tbody>\n",
       "</table>\n",
       "</div>"
      ],
      "text/plain": [
       "  subreddit_title                              subreddit_description  \\\n",
       "0         gadgets  From Vintage gadgetry to the latest and greate...   \n",
       "1         gadgets  From Vintage gadgetry to the latest and greate...   \n",
       "2         gadgets  From Vintage gadgetry to the latest and greate...   \n",
       "3         gadgets  From Vintage gadgetry to the latest and greate...   \n",
       "4         gadgets  From Vintage gadgetry to the latest and greate...   \n",
       "5         gadgets  From Vintage gadgetry to the latest and greate...   \n",
       "6         gadgets  From Vintage gadgetry to the latest and greate...   \n",
       "7         gadgets  From Vintage gadgetry to the latest and greate...   \n",
       "8         gadgets  From Vintage gadgetry to the latest and greate...   \n",
       "9         gadgets  From Vintage gadgetry to the latest and greate...   \n",
       "\n",
       "                                    submission_title submission_selftext  \\\n",
       "0  Amazon admits Alexa is creepily laughing at pe...                       \n",
       "1  Apple apologizes for iPhone slowdown drama, wi...                       \n",
       "2  Logitech finally finds a good use for wireless...                       \n",
       "3             The S9 Keeps the 3.5mm Headphone Jack!                       \n",
       "4  Apple Warns Looters With Stolen iPhones: You A...                       \n",
       "5  94-year-old inventor of lithium-ion batteries ...                       \n",
       "6  We need your voice as we continue the fight fo...                       \n",
       "7  The first ever 1-terabyte microSD card is now ...                       \n",
       "8  $350 USB Stick That Claims to Block 5G Is Actu...                       \n",
       "9  Boston Dynamics' quadruped robots are now roam...                       \n",
       "\n",
       "                                      submission_url  submission_upvotes  \\\n",
       "0  https://www.theverge.com/circuitbreaker/2018/3...               70155   \n",
       "1  https://www.theverge.com/2017/12/28/16827248/a...               62490   \n",
       "2  https://arstechnica.com/gadgets/2017/06/logite...               59768   \n",
       "3  http://www.theverge.com/platform/amp/circuitbr...               59196   \n",
       "4  https://www.forbes.com/sites/zakdoffman/2020/0...               58929   \n",
       "5  http://www.digitaltrends.com/cool-tech/glass-b...               53054   \n",
       "6  https://www.reddit.com/r/blog/comments/6mtgtp/...               49206   \n",
       "7  https://www.tomsguide.com/us/sandisk-1-tb-micr...               45118   \n",
       "8  https://www.pcmag.com/news/350-usb-stick-that-...               39282   \n",
       "9  https://www.tomsguide.com/news/boston-dynamics...               39023   \n",
       "\n",
       "   submission_upvote_ratio  \n",
       "0                     0.91  \n",
       "1                     0.83  \n",
       "2                     0.89  \n",
       "3                     0.83  \n",
       "4                     0.90  \n",
       "5                     0.87  \n",
       "6                     0.84  \n",
       "7                     0.96  \n",
       "8                     0.95  \n",
       "9                     0.93  "
      ]
     },
     "execution_count": 7,
     "metadata": {},
     "output_type": "execute_result"
    }
   ],
   "source": [
    "# Creating dataframe\n",
    "sub_df = pd.DataFrame(\n",
    "    {'subreddit_title': sub_titles,\n",
    "     'subreddit_description': sub_description,\n",
    "     'submission_title': submis_title,\n",
    "     'submission_selftext': submis_selftext,\n",
    "     'submission_url': submis_url,\n",
    "     'submission_upvotes' : submis_upvotes,\n",
    "     'submission_upvote_ratio' : submis_upvote_ratio\n",
    "     #'all_text' : atex\n",
    "     \n",
    "    })\n",
    "sub_df.head(10)"
   ]
  },
  {
   "cell_type": "code",
   "execution_count": null,
   "metadata": {},
   "outputs": [],
   "source": []
  },
  {
   "cell_type": "code",
   "execution_count": 8,
   "metadata": {},
   "outputs": [],
   "source": [
    "sub_df = sub_df[sub_df['subreddit_title'] != 'creepy']"
   ]
  },
  {
   "cell_type": "code",
   "execution_count": 9,
   "metadata": {},
   "outputs": [
    {
     "name": "stdout",
     "output_type": "stream",
     "text": [
      "9159\n"
     ]
    }
   ],
   "source": [
    "print(len(sub_df['submission_title']))"
   ]
  },
  {
   "cell_type": "code",
   "execution_count": 10,
   "metadata": {
    "colab": {
     "base_uri": "https://localhost:8080/",
     "height": 17
    },
    "colab_type": "code",
    "id": "t-AFkY2ZUONt",
    "outputId": "bb9d19e7-21c2-4f7d-d4da-663c8b78308d"
   },
   "outputs": [],
   "source": [
    "\n",
    "\n",
    "sub_df.to_csv('bw_ph_2_data1.csv', sep='\\t')\n"
   ]
  },
  {
   "cell_type": "code",
   "execution_count": null,
   "metadata": {},
   "outputs": [],
   "source": []
  }
 ],
 "metadata": {
  "colab": {
   "authorship_tag": "ABX9TyP7aF/TviDNzOHJvxuLq3G0",
   "include_colab_link": true,
   "name": "BW-PH-2-DS",
   "provenance": []
  },
  "kernelspec": {
   "display_name": "Python 3",
   "language": "python",
   "name": "python3"
  },
  "language_info": {
   "codemirror_mode": {
    "name": "ipython",
    "version": 3
   },
   "file_extension": ".py",
   "mimetype": "text/x-python",
   "name": "python",
   "nbconvert_exporter": "python",
   "pygments_lexer": "ipython3",
   "version": "3.7.6"
  }
 },
 "nbformat": 4,
 "nbformat_minor": 1
}
